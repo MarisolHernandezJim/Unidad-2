{
  "nbformat": 4,
  "nbformat_minor": 0,
  "metadata": {
    "colab": {
      "provenance": [],
      "authorship_tag": "ABX9TyOdpNs4raKwunQ6eOJfIMKR",
      "include_colab_link": true
    },
    "kernelspec": {
      "name": "python3",
      "display_name": "Python 3"
    },
    "language_info": {
      "name": "python"
    }
  },
  "cells": [
    {
      "cell_type": "markdown",
      "metadata": {
        "id": "view-in-github",
        "colab_type": "text"
      },
      "source": [
        "<a href=\"https://colab.research.google.com/github/MarisolHernandezJim/Unidad-2/blob/main/practica1.ipynb\" target=\"_parent\"><img src=\"https://colab.research.google.com/assets/colab-badge.svg\" alt=\"Open In Colab\"/></a>"
      ]
    },
    {
      "cell_type": "markdown",
      "source": [
        "¿Qué es Pandas en Python?\n",
        "\n",
        "Pandas es una librería o biblioteca de Python que se utiliza para trabajar con conjuntos de datos.\n",
        "Tiene funciones para organizar, limpiar, explorar y manipular datos.\n",
        "El nombre “Pandas” hace referencia a panel data y python data. Fue creado en el 2008.\n",
        "\n",
        "¿Por qué utilizar Pandas?\n",
        "\n",
        "Nos permite analizar big data y sacar conclusiones basadas en teorías.\n",
        "Los Pandas pueden limpiar conjuntos de datos desordenados y hacerlos legibles y relevantes.\n",
        "\n",
        "Los datos relevantes son muy importantes en la ciencia de datos.\n",
        "\n",
        "¿Qué podemos hacer con Pandas?\n",
        "\n",
        "Saber si existe correlación entre dos o más columnas.\n",
        "\n",
        "Calcular el valor promedio.\n",
        "\n",
        "Encontrar el valor máximo.\n",
        "\n",
        "Encontrar el valor mínimo.\n",
        "\n",
        "Pandas también pueden eliminar filas que no son relevantes o que contengan errores como valores vacíos.\n",
        "\n",
        "Esto se llama “limpieza de datos”.\n",
        "\n",
        "Instalación de Pandas\n",
        "\n",
        "Si tienes Python y pip instalado en un sistema, instala usando el siguiente comando:"
      ],
      "metadata": {
        "id": "C3BEccuiUX58"
      }
    },
    {
      "cell_type": "code",
      "execution_count": null,
      "metadata": {
        "id": "-cz_eJzEUOAh"
      },
      "outputs": [],
      "source": [
        "pip install pandas\n"
      ]
    },
    {
      "cell_type": "markdown",
      "source": [
        "Si este comando falla, utiliza un distribuidor de Python que ya tenga instalado pandas.\n",
        "\n",
        "Una vez instalado, pandas se importa a tus aplicaciones agregando la palabra clave:"
      ],
      "metadata": {
        "id": "FosYC9ytUiCc"
      }
    },
    {
      "cell_type": "code",
      "source": [
        "import pandas\n"
      ],
      "metadata": {
        "id": "3-7JpQpLUoOU"
      },
      "execution_count": null,
      "outputs": []
    },
    {
      "cell_type": "markdown",
      "source": [
        "Ahora pandas está listo.\n",
        "\n",
        "Para importar la librería se suele usar como:"
      ],
      "metadata": {
        "id": "6X1RV8TSUrcM"
      }
    },
    {
      "cell_type": "code",
      "source": [
        "import pandas as pd\n"
      ],
      "metadata": {
        "id": "4ntB7XRQUsM8"
      },
      "execution_count": null,
      "outputs": []
    },
    {
      "cell_type": "markdown",
      "source": [
        "Esto crea un alias con la palabra pd al importar pandas.\n",
        "Ejemplo:"
      ],
      "metadata": {
        "id": "vUfJfmxKUxPM"
      }
    },
    {
      "cell_type": "code",
      "source": [
        "import pandas as pd\n"
      ],
      "metadata": {
        "id": "rKPI4XpyUy50"
      },
      "execution_count": null,
      "outputs": []
    },
    {
      "cell_type": "markdown",
      "source": [
        "Ahora el paquete pandas puede denominarse pd en lugar de pandas.\n",
        "\n",
        "Comprobando la versión de Pandas\n",
        "\n",
        "La cadena de la versión se almacena en el atributo . __version__\n",
        "\n",
        "Ejemplo:"
      ],
      "metadata": {
        "id": "xm0uSKNDU06T"
      }
    },
    {
      "cell_type": "code",
      "source": [
        "import pandas as pd\n",
        "print(pd.__version__)\n"
      ],
      "metadata": {
        "colab": {
          "base_uri": "https://localhost:8080/"
        },
        "id": "QeMmJ4A0U360",
        "outputId": "501d5ebc-a41b-43d2-c02d-63196971bc42"
      },
      "execution_count": 3,
      "outputs": [
        {
          "output_type": "stream",
          "name": "stdout",
          "text": [
            "2.2.2\n"
          ]
        }
      ]
    },
    {
      "cell_type": "markdown",
      "source": [
        "Ejercicio\n",
        "\n",
        "¿Cuál de las siguientes opciones es la biblioteca oficial de pandas?\n",
        "\n",
        "import p\n",
        "\n",
        "import pandas ✅\n",
        "\n",
        "import pan"
      ],
      "metadata": {
        "id": "tGc01kpNU5YU"
      }
    },
    {
      "cell_type": "markdown",
      "source": [
        "Pandas Serie\n",
        "¿Qué es una Serie?\n",
        "\n",
        "Una Serie pandas es como una columna en una tabla.\n",
        "Es una matriz unidimensional que contiene datos de cualquier tipo.\n",
        "\n",
        "Ejemplo:"
      ],
      "metadata": {
        "id": "4iLvSgfaU-1b"
      }
    },
    {
      "cell_type": "code",
      "source": [
        "import pandas as pd\n",
        "a = [1, 7, 2]\n",
        "myvar = pd.Series(a)\n",
        "print(myvar)\n"
      ],
      "metadata": {
        "colab": {
          "base_uri": "https://localhost:8080/"
        },
        "id": "SR-A4k17VB48",
        "outputId": "0cdc5ca8-4736-4797-f564-ea443d23f356"
      },
      "execution_count": 2,
      "outputs": [
        {
          "output_type": "stream",
          "name": "stdout",
          "text": [
            "0    1\n",
            "1    7\n",
            "2    2\n",
            "dtype: int64\n"
          ]
        }
      ]
    },
    {
      "cell_type": "markdown",
      "source": [
        "ETIQUETAS\n",
        "Si no se especifica nada más, los valores se etiquetan con su número de índice. El primero tiene índice 0, el segundo tiene 1, etc. Esta etiqueta se puede utilizar para acceder a un valor específico.\n",
        "Ejemplo:\n",
        "Devuelve el primer valor de la serie:"
      ],
      "metadata": {
        "id": "vfUpVf0gVHC0"
      }
    },
    {
      "cell_type": "code",
      "source": [
        "Print(my_var[0])"
      ],
      "metadata": {
        "id": "UENEa_REWmBb"
      },
      "execution_count": null,
      "outputs": []
    },
    {
      "cell_type": "markdown",
      "source": [
        "Crear etiquetas\n",
        "Con el argumento index, podemos nombrar nuestras propias etiquetas.\n",
        "Ejemplo:\n",
        "Crea tus propias etiquetas:"
      ],
      "metadata": {
        "id": "Ppj0am_ZWsm7"
      }
    },
    {
      "cell_type": "code",
      "source": [
        "myvar = Pd.Series(data, index = [\"x\", \"y\", \"z\"])\n",
        "print(myvar)"
      ],
      "metadata": {
        "id": "wD7jVTL2WvyT"
      },
      "execution_count": null,
      "outputs": []
    },
    {
      "cell_type": "markdown",
      "source": [
        "Cuando hayamos creado etiquetas, podemos acceder a un elemento y podemos hacer referencia a su etiqueta.\n",
        "Resuelve el valor de 'y':"
      ],
      "metadata": {
        "id": "TP-wX7j8W0Yk"
      }
    },
    {
      "cell_type": "code",
      "source": [
        "Print(myvar[\"y\"])"
      ],
      "metadata": {
        "id": "QDoyqq0CW4oc"
      },
      "execution_count": null,
      "outputs": []
    },
    {
      "cell_type": "markdown",
      "source": [
        "Objetos clave/valor como serie.\n",
        "También podemos utilizar un objeto clave/valor como un diccionario al crear una serie.\n",
        "Ejemplo: Crea una serie pandas básica a partir de un diccionario."
      ],
      "metadata": {
        "id": "rQ7-_oRkW8Az"
      }
    },
    {
      "cell_type": "code",
      "source": [
        "import pandas as pd\n",
        "\n",
        "Calorias = {'day 1': 420, 'day 2': 380, 'day 3': 390}\n",
        "my_var = pd.Series(Calorias)\n",
        "print(my_var)"
      ],
      "metadata": {
        "id": "ofll-hIuXJOj"
      },
      "execution_count": null,
      "outputs": []
    },
    {
      "cell_type": "markdown",
      "source": [
        "Nota:\n",
        "Las claves del diccionario se convierten en las etiquetas.\n",
        "Para seleccionar elementos del diccionario, utiliza el argumento index que especifique el elemento que desea incluir en la serie.\n",
        "Ejemplo: Crea una serie utilizando datos del día 1 y día 2."
      ],
      "metadata": {
        "id": "hxvrA9EfXRHr"
      }
    },
    {
      "cell_type": "code",
      "source": [
        "my_var = pd.Series(Calorias, index = ['day 1', 'day 2'])\n",
        "print(my_var)"
      ],
      "metadata": {
        "id": "o8pWT6X6Xdqb"
      },
      "execution_count": null,
      "outputs": []
    },
    {
      "cell_type": "markdown",
      "source": [
        "Data Frames\n",
        "Marcos de Datos\n",
        "Los conjuntos de datos en pandas suelen ser tablas multidimensionales, llamadas Data Frames. La serie es como una columna en un Data Frame.\n",
        "Ejemplo: Crea un Data Frame a partir de 2 Series.\n"
      ],
      "metadata": {
        "id": "1MW0BBQ4Xg17"
      }
    },
    {
      "cell_type": "code",
      "source": [
        "import pandas as pd\n",
        "data = {\n",
        "  \"Calories\": [420, 380, 390],\n",
        "  \"Duration\": [50, 40, 45]\n",
        "}\n",
        "my_var = pd.DataFrame(data)\n",
        "print(my_var)\n"
      ],
      "metadata": {
        "id": "BUe6Z_kjX0AD"
      },
      "execution_count": null,
      "outputs": []
    },
    {
      "cell_type": "markdown",
      "source": [
        "Pregunta:\n",
        "¿Una serie es como un renglón en una tabla? Falso, es como una columna."
      ],
      "metadata": {
        "id": "P7OTwJrGX-Or"
      }
    }
  ]
}