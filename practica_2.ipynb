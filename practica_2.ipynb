{
  "nbformat": 4,
  "nbformat_minor": 0,
  "metadata": {
    "colab": {
      "provenance": [],
      "authorship_tag": "ABX9TyNi1Tvl3VZiQt1qFnTiWuZh",
      "include_colab_link": true
    },
    "kernelspec": {
      "name": "python3",
      "display_name": "Python 3"
    },
    "language_info": {
      "name": "python"
    }
  },
  "cells": [
    {
      "cell_type": "markdown",
      "metadata": {
        "id": "view-in-github",
        "colab_type": "text"
      },
      "source": [
        "<a href=\"https://colab.research.google.com/github/MarisolHernandezJim/Unidad-2/blob/main/practica_2.ipynb\" target=\"_parent\"><img src=\"https://colab.research.google.com/assets/colab-badge.svg\" alt=\"Open In Colab\"/></a>"
      ]
    },
    {
      "cell_type": "markdown",
      "source": [
        "Mrisol Hernandez Practica 2 de pandas\n",
        "7/octubre/20205\n",
        "\n",
        "\n",
        "---\n",
        "\n",
        "\n",
        "DataFrames de Pandas\n",
        "\n",
        "\n",
        "---\n",
        "\n",
        "Un dataframe es uan esctructura de datos bidimensionales, como una matriz o tabla con filas y columnas\n",
        "\n",
        "\n",
        "---\n",
        "\n",
        "\n",
        "ejemplo crea un dataframe basico:"
      ],
      "metadata": {
        "id": "eP9yk8G-2W1C"
      }
    },
    {
      "cell_type": "code",
      "execution_count": 1,
      "metadata": {
        "colab": {
          "base_uri": "https://localhost:8080/"
        },
        "id": "of61yyDM2WCK",
        "outputId": "cce968bc-cd8e-48e7-92ba-0eba52d5fa1d"
      },
      "outputs": [
        {
          "output_type": "stream",
          "name": "stdout",
          "text": [
            "   calorias  duracion\n",
            "0       420        50\n",
            "1       380        40\n",
            "2       390        45\n"
          ]
        }
      ],
      "source": [
        "import pandas as pd\n",
        "datos = {\n",
        "    \"calorias\":[420,380,390],\n",
        "    \"duracion\":[50,40,45]\n",
        "}\n",
        "#cargar datos dentro del frame\n",
        "df = pd.DataFrame(datos)\n",
        "print(df)"
      ]
    },
    {
      "cell_type": "markdown",
      "source": [
        "localizar filas\n",
        "como puedes ver en el resutado anteriror el DataFrame es como una tabla con filas y columnas\n",
        "Pandas usa el atributos \"loc\" para devolver una o mas dilas especificas\n",
        "ejemplo: devuelve la fila cero\n"
      ],
      "metadata": {
        "id": "HCC8rsJ543uh"
      }
    },
    {
      "cell_type": "code",
      "source": [
        "import pandas as pd\n",
        "datos = {\n",
        "    \"calorias\":[420,380,390],\n",
        "    \"duracion\":[50,40,45]\n",
        "}\n",
        "#cargar datos dentro del frame\n",
        "df = pd.DataFrame(datos)\n",
        "print(df.loc[0])\n"
      ],
      "metadata": {
        "colab": {
          "base_uri": "https://localhost:8080/"
        },
        "id": "Dl-c5Klb7hcR",
        "outputId": "3d53f0a3-c996-4925-cc8b-27749caa5f5c"
      },
      "execution_count": 2,
      "outputs": [
        {
          "output_type": "stream",
          "name": "stdout",
          "text": [
            "calorias    420\n",
            "duracion     50\n",
            "Name: 0, dtype: int64\n"
          ]
        }
      ]
    },
    {
      "cell_type": "markdown",
      "source": [
        "devuelve las filas 0,1"
      ],
      "metadata": {
        "id": "S0qEss6g9xvi"
      }
    },
    {
      "cell_type": "code",
      "source": [
        "import pandas as pd\n",
        "datos = {\n",
        "    \"calorias\":[420,380,390],\n",
        "    \"duracion\":[50,40,45]\n",
        "}\n",
        "df = pd.DataFrame(datos)\n",
        "print(df.loc[[0,1]])"
      ],
      "metadata": {
        "colab": {
          "base_uri": "https://localhost:8080/"
        },
        "id": "e3ctK6NI90fZ",
        "outputId": "ee0621cd-984e-492a-be63-f69a8ad3e9af"
      },
      "execution_count": 3,
      "outputs": [
        {
          "output_type": "stream",
          "name": "stdout",
          "text": [
            "   calorias  duracion\n",
            "0       420        50\n",
            "1       380        40\n"
          ]
        }
      ]
    },
    {
      "cell_type": "markdown",
      "source": [
        "Indices nombrados\n",
        "-----------------------\n",
        "con el argumento \"index\", puedes nombrar tus propios indices o etiquetas.\n",
        "---------------------------------\n",
        "Ejemplo: Agrega una lista de nombres para darle etiqueta a cada fila.\n",
        "\n",
        "\n"
      ],
      "metadata": {
        "id": "4l_TX4Gy-_mb"
      }
    },
    {
      "cell_type": "code",
      "source": [
        "import pandas as pd\n",
        "datos = {\n",
        "    \"calorias\":[420,380,390],\n",
        "    \"duracion\":[50,40,45]\n",
        "}\n",
        "df = pd.DataFrame(datos, index = [\"dia1\",\"dia2\",\"dia3\"])\n",
        "print(df)"
      ],
      "metadata": {
        "colab": {
          "base_uri": "https://localhost:8080/"
        },
        "id": "rodA4MkD_n8K",
        "outputId": "78a6454b-3c66-4606-e147-32657d936b22"
      },
      "execution_count": 4,
      "outputs": [
        {
          "output_type": "stream",
          "name": "stdout",
          "text": [
            "      calorias  duracion\n",
            "dia1       420        50\n",
            "dia2       380        40\n",
            "dia3       390        45\n"
          ]
        }
      ]
    },
    {
      "cell_type": "markdown",
      "source": [
        "localizar indices el nombre o etiqueta utilice el atributo \"loc\" para devolver las filas especificas\n",
        "\n",
        "\n",
        "---\n",
        "ejemplo devuelve la fila dia 2\n"
      ],
      "metadata": {
        "id": "naIAGvwe_swa"
      }
    },
    {
      "cell_type": "code",
      "source": [
        "import pandas as np\n",
        "datos = {\n",
        "    \"calorias\":[420,380,390],\n",
        "    \"duracion\":[50,40,45]\n",
        "}\n",
        "df = pd.DataFrame(datos, index = [\"dia1\",\"dia2\",\"dia3\"])\n",
        "print(df.loc[\"dia2\"])"
      ],
      "metadata": {
        "colab": {
          "base_uri": "https://localhost:8080/"
        },
        "id": "Y2Yx1LLTAIAS",
        "outputId": "9f7f751f-4b59-465d-9eb4-4792ea2272c3"
      },
      "execution_count": 5,
      "outputs": [
        {
          "output_type": "stream",
          "name": "stdout",
          "text": [
            "calorias    380\n",
            "duracion     40\n",
            "Name: dia2, dtype: int64\n"
          ]
        }
      ]
    }
  ]
}